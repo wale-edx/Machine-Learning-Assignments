{
 "cells": [
  {
   "cell_type": "code",
   "execution_count": 31,
   "metadata": {
    "collapsed": true
   },
   "outputs": [],
   "source": [
    "import numpy as np\n",
    "from sklearn import svm\n",
    "import matplotlib.pyplot as plt\n",
    "from sklearn.naive_bayes import GaussianNB\n",
    "\n",
    "%matplotlib inline"
   ]
  },
  {
   "cell_type": "code",
   "execution_count": 32,
   "metadata": {
    "collapsed": false
   },
   "outputs": [],
   "source": [
    "with open('positive.dat','r') as f:\n",
    "    positive = f.readlines()\n",
    "with open('negative.dat','r') as f:\n",
    "    negative = f.readlines()"
   ]
  },
  {
   "cell_type": "code",
   "execution_count": 33,
   "metadata": {
    "collapsed": false
   },
   "outputs": [],
   "source": [
    "def process_data(a,b):\n",
    "    returnvalue1=[]\n",
    "    for point in a:\n",
    "        point=point[2:]\n",
    "        point =[ x.split(':')[-1] for x in point.split(' ')[:-1]]\n",
    "        returnvalue1.append(point)\n",
    "    returnvalue2=[]\n",
    "    for point in b:\n",
    "        point=point[3:]\n",
    "        point =[ x.split(':')[-1] for x in point.split(' ')[:-1]]\n",
    "        returnvalue2.append(point)\n",
    "    return np.float64(returnvalue1),np.float64(returnvalue2)"
   ]
  },
  {
   "cell_type": "code",
   "execution_count": 34,
   "metadata": {
    "collapsed": false
   },
   "outputs": [],
   "source": [
    "positive ,negative= process_data(positive,negative)\n"
   ]
  },
  {
   "cell_type": "code",
   "execution_count": 35,
   "metadata": {
    "collapsed": true
   },
   "outputs": [],
   "source": [
    "n=4000\n",
    "trainpos=positive[:n];testpos=positive[n:]\n",
    "trainneg=negative[:n];testneg=negative[n:]\n",
    "labels=np.zeros([n]);ones=np.ones([n]);trainlabels = np.concatenate((labels,ones))\n",
    "testlabels=np.zeros([5000-n]);testones=np.ones([5000-n]);testlabels = np.concatenate((testlabels,testones))\n",
    "datapoints=np.concatenate((trainneg,trainpos))\n",
    "testcases=np.concatenate((testneg,testpos))"
   ]
  },
  {
   "cell_type": "code",
   "execution_count": 36,
   "metadata": {
    "collapsed": false
   },
   "outputs": [
    {
     "data": {
      "text/plain": [
       "8000"
      ]
     },
     "execution_count": 36,
     "metadata": {},
     "output_type": "execute_result"
    }
   ],
   "source": [
    "len(datapoints)"
   ]
  },
  {
   "cell_type": "code",
   "execution_count": 37,
   "metadata": {
    "collapsed": false
   },
   "outputs": [
    {
     "name": "stdout",
     "output_type": "stream",
     "text": [
      "kernal:  poly  score:  0.7915\n",
      "kernal:  rbf  score:  0.4995\n"
     ]
    }
   ],
   "source": [
    "kernals=['poly', 'rbf']\n",
    "for kernal in kernals:\n",
    "    clf = svm.SVC(kernel=kernal)\n",
    "    clf.fit(datapoints, trainlabels)  \n",
    "    print \"kernal: \" ,kernal,\" score: \",clf.score(testcases,testlabels)"
   ]
  },
  {
   "cell_type": "code",
   "execution_count": 38,
   "metadata": {
    "collapsed": false
   },
   "outputs": [],
   "source": [
    "gamma_range = np.array([1,0.1,0.01,0.001,0.0001,0.00001,0.000001])\n",
    "\n",
    "accuracy=[]\n",
    "for gamma in gamma_range:\n",
    "    clf = svm.SVC(kernel='rbf',gamma=gamma,C=1.0)\n",
    "    clf.fit(datapoints, trainlabels)\n",
    "    accuracy.append(1-clf.score(testcases,testlabels))"
   ]
  },
  {
   "cell_type": "code",
   "execution_count": 39,
   "metadata": {
    "collapsed": false
   },
   "outputs": [
    {
     "name": "stdout",
     "output_type": "stream",
     "text": [
      "[0.5, 0.33350000000000002, 0.4375, 0.16549999999999998, 0.16249999999999998, 0.16249999999999998, 0.15849999999999997]\n",
      "least error is  0.1585 with gamma of value : 1e-06\n"
     ]
    }
   ],
   "source": [
    "print accuracy\n",
    "print \"least error is \", accuracy[-1],\"with gamma of value :\", gamma_range[-1]"
   ]
  },
  {
   "cell_type": "code",
   "execution_count": 40,
   "metadata": {
    "collapsed": false
   },
   "outputs": [
    {
     "data": {
      "image/png": "[encoded data removed]",
      "text/plain": [
       "<matplotlib.figure.Figure at 0x7ff1d73e62d0>"
      ]
     },
     "metadata": {},
     "output_type": "display_data"
    }
   ],
   "source": [
    "\n",
    "plt.plot(gamma_range,accuracy,'r')\n",
    "plt.axis([0,1, 0, .55])\n",
    "plt.show()"
   ]
  },
  {
   "cell_type": "markdown",
   "metadata": {},
   "source": [
    "## now we try different train size for the optimal gamma\n",
    "\n",
    "##  \n"
   ]
  },
  {
   "cell_type": "code",
   "execution_count": 41,
   "metadata": {
    "collapsed": false
   },
   "outputs": [],
   "source": [
    "acc=[]\n",
    "for n in [1000,2000,3000,4000,4900]:\n",
    "    trainpos=positive[:n];testpos=positive[n:]\n",
    "    trainneg=negative[:n];testneg=negative[n:]\n",
    "    labels=np.zeros([n]);ones=np.ones([n]);trainlabels = np.concatenate((labels,ones))\n",
    "    testlabels=np.zeros([5000-n]);testones=np.ones([5000-n]);testlabels = np.concatenate((testlabels,testones))\n",
    "    datapoints=np.concatenate((trainneg,trainpos))\n",
    "    testcases=np.concatenate((testneg,testpos))\n",
    "    clf = svm.SVC(kernel='rbf',gamma=gamma_range[-1])\n",
    "    clf.fit(datapoints, trainlabels)  \n",
    "    acc.append(1-clf.score(testcases,testlabels))"
   ]
  },
  {
   "cell_type": "code",
   "execution_count": 42,
   "metadata": {
    "collapsed": false
   },
   "outputs": [
    {
     "data": {
      "image/png": "[encoded data removed]",
      "text/plain": [
       "<matplotlib.figure.Figure at 0x7ff1d7336ed0>"
      ]
     },
     "metadata": {},
     "output_type": "display_data"
    }
   ],
   "source": [
    "plt.plot([1000,2000,3000,4000,4900],acc,'r')\n",
    "plt.axis([1000,5000, 0, 1])\n",
    "plt.show()"
   ]
  },
  {
   "cell_type": "code",
   "execution_count": 43,
   "metadata": {
    "collapsed": true
   },
   "outputs": [],
   "source": [
    "n=4000\n",
    "trainpos=positive[:n];testpos=positive[n:]\n",
    "trainneg=negative[:n];testneg=negative[n:]\n",
    "labels=np.zeros([n]);ones=np.ones([n]);trainlabels = np.concatenate((labels,ones))\n",
    "testlabels=np.zeros([5000-n]);testones=np.ones([5000-n]);testlabels = np.concatenate((testlabels,testones))\n",
    "datapoints=np.concatenate((trainneg,trainpos))\n",
    "testcases=np.concatenate((testneg,testpos))"
   ]
  },
  {
   "cell_type": "code",
   "execution_count": 44,
   "metadata": {
    "collapsed": false
   },
   "outputs": [
    {
     "name": "stdout",
     "output_type": "stream",
     "text": [
      "0.159\n"
     ]
    }
   ],
   "source": [
    "bayes = GaussianNB().fit(datapoints,trainlabels)\n",
    "testerror=bayes.score(testcases,testlabels)\n",
    "\n",
    "print (1-testerror)"
   ]
  },
  {
   "cell_type": "code",
   "execution_count": null,
   "metadata": {
    "collapsed": true
   },
   "outputs": [],
   "source": []
  },
  {
   "cell_type": "code",
   "execution_count": null,
   "metadata": {
    "collapsed": true
   },
   "outputs": [],
   "source": []
  },
  {
   "cell_type": "code",
   "execution_count": null,
   "metadata": {
    "collapsed": true
   },
   "outputs": [],
   "source": []
  }
 ],
 "metadata": {
  "kernelspec": {
   "display_name": "Python [Root]",
   "language": "python",
   "name": "Python [Root]"
  },
  "language_info": {
   "codemirror_mode": {
    "name": "ipython",
    "version": 2
   },
   "file_extension": ".py",
   "mimetype": "text/x-python",
   "name": "python",
   "nbconvert_exporter": "python",
   "pygments_lexer": "ipython2",
   "version": "2.7.12"
  }
 },
 "nbformat": 4,
 "nbformat_minor": 0
}
