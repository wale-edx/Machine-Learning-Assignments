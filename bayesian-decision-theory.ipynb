{
 "cells": [
  {
   "cell_type": "markdown",
   "metadata": {},
   "source": [
    "# 1 -Write a Matlab/Python function to calculate the discriminant function of the following form"
   ]
  },
  {
   "cell_type": "code",
   "execution_count": 1,
   "metadata": {
    "collapsed": true
   },
   "outputs": [],
   "source": [
    "%matplotlib inline\n",
    "import numpy as np\n",
    "import math\n",
    "import matplotlib.pyplot as plt"
   ]
  },
  {
   "cell_type": "code",
   "execution_count": 2,
   "metadata": {
    "collapsed": false
   },
   "outputs": [],
   "source": [
    "w1 = np.array([[-5.01,-5.43,1.08,0.86,-2.67,4.94,-2.51,-2.25,5.56,1.03],\n",
    "\n",
    "[-8.12,-3.48,-5.52,-3.78,0.63,3.29,2.09,-2.13,2.86,-3.33],\n",
    "\n",
    "[-3.68,-3.54,1.66,-4.11,7.39,2.08,-2.59,-6.94,-2.26,4.33]]);\n",
    "\n",
    "w2 = np.array([[-0.91,1.30,-7.75,-5.47,6.14,3.60,5.37,7.18,-7.39,-7.50],\n",
    "\n",
    "[-0.18,-2.06,-4.54,0.50,5.72,1.26,-4.63,1.46,1.17,-6.32],\n",
    "\n",
    "[-0.05,-3.53,-0.95,3.92,-4.85,4.36,-3.65,-6.66,6.30,-0.31]]);\n",
    "\n",
    "w3 = np.array([[5.35,5.12,-1.34,4.48,7.11,7.17,5.75,0.77,0.90,3.52],\n",
    "\n",
    "[2.26,3.22,-5.31,3.42,2.39,4.33,3.97,0.27,-0.43,-0.36],\n",
    "\n",
    "[8.13,-2.66,-9.87,5.19,9.21,-0.98,6.65,2.41,-8.71,6.43]])\n",
    "\n",
    "x1=0; x2=1 ;x3=2"
   ]
  },
  {
   "cell_type": "markdown",
   "metadata": {},
   "source": [
    "# Write a function to calculate the Mahalanobis distance between an arbitrary point x and the mean, μi, of a Gaussian distribution with covariance matrix Σi"
   ]
  },
  {
   "cell_type": "code",
   "execution_count": 3,
   "metadata": {
    "collapsed": true
   },
   "outputs": [],
   "source": [
    "def mahalanobis(x,cov_mat,mean):\n",
    "    x_mean = np.transpose(x)-mean\n",
    "    x_mean_t = np.transpose(x_mean) \n",
    "    return np.dot(np.dot(x_mean,np.linalg.inv(cov_mat)),x_mean_t)"
   ]
  },
  {
   "cell_type": "code",
   "execution_count": 4,
   "metadata": {
    "collapsed": false
   },
   "outputs": [],
   "source": [
    "def discriminant(x,cov_w1,mean,pw):      \n",
    "        #dimention\n",
    "        d=x.shape[0] \n",
    "        x_dot_cov=-0.5*mahalanobis(x,cov_w1,mean)  \n",
    "        temp=np.squeeze(x_dot_cov)-((d/2)*np.log(math.pi/2))-(0.5*np.log(np.linalg.det(cov_w1)))\n",
    "        temp=temp+np.log(pw)\n",
    "        return temp\n",
    "def discriminant_2(x,cov_w1,mean,pw):      \n",
    "    #dimention\n",
    "    d=x.shape[0] \n",
    "    x_dot_cov=-0.5*mahalanobis(x,cov_w1,mean)  \n",
    "    temp=np.squeeze(x_dot_cov)-((d/2)*np.log(math.pi/2))-(0.5*np.log(np.linalg.det(cov_w1)))\n",
    "    return temp"
   ]
  },
  {
   "cell_type": "code",
   "execution_count": 5,
   "metadata": {
    "collapsed": true
   },
   "outputs": [],
   "source": [
    "def classifer_1(x,mean_vec,covariance,pw):#MAL\n",
    "    result = np.empty(x.shape[0])\n",
    "    return_i=0\n",
    "    temp=0\n",
    "    for i in enumerate(covariance):\n",
    "        mean_= mean_vec[i[0]]\n",
    "        cov_mat= i[1]\n",
    "        pw_ =pw[i[0]]\n",
    "        result[i[0]] = discriminant(x,cov_mat,mean_,pw_)\n",
    "        if i[0] == 0:\n",
    "            temp=discriminant(x,cov_mat,mean_,pw_)\n",
    "            return_i=i[0]\n",
    "        if temp < discriminant(x,cov_mat,mean_,pw_):\n",
    "            temp=discriminant(x,cov_mat,mean_,pw_)\n",
    "            return_i=i[0]\n",
    "    return return_i"
   ]
  },
  {
   "cell_type": "code",
   "execution_count": 6,
   "metadata": {
    "collapsed": false
   },
   "outputs": [],
   "source": [
    "def classifer_2(x,mean_vec,covariance,pw):#ML\n",
    "    result = np.empty(x.shape[0])\n",
    "    temp = 0 \n",
    "    return_i=0\n",
    "\n",
    "    for i in enumerate(covariance):\n",
    "        mean_= mean_vec[i[0]]\n",
    "        cov_mat= i[1]\n",
    "        pw_ =pw[i[0]]\n",
    "        result[i[0]] = discriminant_2(x,cov_mat,mean_,pw_)\n",
    "        if i[0] == 0:\n",
    "            temp=discriminant_2(x,cov_mat,mean_,pw_)\n",
    "            return_i=i[0]\n",
    "        if temp < discriminant_2(x,cov_mat,mean_,pw_):\n",
    "            temp=discriminant_2(x,cov_mat,mean_,pw_)\n",
    "            return_i=i[0]\n",
    "    return return_i"
   ]
  },
  {
   "cell_type": "code",
   "execution_count": 7,
   "metadata": {
    "collapsed": true
   },
   "outputs": [],
   "source": [
    "w1_cov= np.cov(w1 ,ddof=0)\n",
    "mean_w1 = w1.mean(axis=1)\n",
    "w2_cov= np.cov(w2 ,ddof=0)\n",
    "mean_w2 = w2.mean(axis=1)\n",
    "w3_cov= np.cov(w3 ,ddof=0)\n",
    "mean_w3 = w3.mean(axis=1)\n",
    "covariance=np.array([w1_cov,w2_cov,w3_cov])\n",
    "mean=np.array([mean_w1,mean_w2,mean_w3])"
   ]
  },
  {
   "cell_type": "code",
   "execution_count": 8,
   "metadata": {
    "collapsed": false
   },
   "outputs": [],
   "source": [
    "pw= np.array([0.8,0.1,0.1])"
   ]
  },
  {
   "cell_type": "code",
   "execution_count": 9,
   "metadata": {
    "collapsed": false
   },
   "outputs": [],
   "source": [
    "p1 = np.array([[1],[2],[1]])\n",
    "p2=np.array([[5],[3],[1]])\n",
    "p3=np.array([[0],[0],[0]])\n",
    "p4=np.array([[1],[0],[0]])"
   ]
  },
  {
   "cell_type": "markdown",
   "metadata": {},
   "source": [
    "## Classify points p1 p2 p3 p4\n",
    "#### Class W1 +> 0\n",
    "#### Class W2 +> 1\n",
    "#### Class W3 +> 2"
   ]
  },
  {
   "cell_type": "code",
   "execution_count": 10,
   "metadata": {
    "collapsed": false
   },
   "outputs": [
    {
     "name": "stdout",
     "output_type": "stream",
     "text": [
      "point 1 with MAL classifier = > class : 0\n",
      "point 2 with MAL classifier = > class : 0\n",
      "point 3 with MAL classifier = > class : 0\n",
      "point 4 with MAL classifier = > class : 0\n",
      "##=====================================##\n",
      "point 1 with ML classifier = > class : 1\n",
      "point 2 with ML classifier = > class : 2\n",
      "point 3 with ML classifier = > class : 0\n",
      "point 4 with ML classifier = > class : 0\n"
     ]
    }
   ],
   "source": [
    "\n",
    "\n",
    "print \"point 1 with MAL classifier = > class :\" ,classifer_1(p1,mean,covariance,pw)\n",
    "print \"point 2 with MAL classifier = > class :\" ,classifer_1(p2,mean,covariance,pw)\n",
    "print \"point 3 with MAL classifier = > class :\" ,classifer_1(p3,mean,covariance,pw)\n",
    "print \"point 4 with MAL classifier = > class :\" ,classifer_1(p4,mean,covariance,pw)\n",
    "print \"##=====================================##\"\n",
    "print \"point 1 with ML classifier = > class :\" ,classifer_2(p1,mean,covariance,pw)\n",
    "print \"point 2 with ML classifier = > class :\" ,classifer_2(p2,mean,covariance,pw)\n",
    "print \"point 3 with ML classifier = > class :\" ,classifer_2(p3,mean,covariance,pw)\n",
    "print \"point 4 with ML classifier = > class :\" ,classifer_2(p4,mean,covariance,pw)\n",
    "\n"
   ]
  },
  {
   "cell_type": "code",
   "execution_count": 11,
   "metadata": {
    "collapsed": true
   },
   "outputs": [],
   "source": [
    "X1=[]\n",
    "X2=[]\n",
    "X3=[]\n",
    "labels=[]\n",
    "for i in range(10):\n",
    "    X1.append(w1[0][i])\n",
    "    X2.append(w1[1][i])\n",
    "    X3.append(w1[2][i])\n",
    "for i in range(10):\n",
    "    X1.append(w2[0][i])\n",
    "    X2.append(w2[0][i])\n",
    "    X3.append(w2[0][i])\n",
    "for i in range(10):\n",
    "    X1.append(w3[0][i])\n",
    "    X2.append(w3[0][i])\n",
    "    X3.append(w3[0][i])\n",
    "for i in range(10):\n",
    "    labels.append(0)\n",
    "for i in range(10):\n",
    "    labels.append(1)\n",
    "for i in range(10):\n",
    "    labels.append(2)\n",
    "\n",
    "X1=np.array(X1)\n",
    "X2=np.array(X2)\n",
    "X3=np.array(X3)"
   ]
  },
  {
   "cell_type": "markdown",
   "metadata": {},
   "source": [
    "### X1 vs X2  MAL Classifier"
   ]
  },
  {
   "cell_type": "code",
   "execution_count": 12,
   "metadata": {
    "collapsed": false
   },
   "outputs": [
    {
     "data": {
      "text/plain": [
       "([], <a list of 0 Text yticklabel objects>)"
      ]
     },
     "execution_count": 12,
     "metadata": {},
     "output_type": "execute_result"
    },
    {
     "data": {
      "image/png": "[encoded data removed]",
      "text/plain": [
       "<matplotlib.figure.Figure at 0x7f2f4c058f10>"
      ]
     },
     "metadata": {},
     "output_type": "display_data"
    }
   ],
   "source": [
    "x_min, x_max = X1.min() - 1, X1.max() + 1\n",
    "y_min, y_max = X2.min() - 1, X2.max() + 1\n",
    "h = .1  # step size in the mesh\n",
    "xx, yy = np.meshgrid(np.arange(x_min, x_max, h),\n",
    "                     np.arange(y_min, y_max, h))\n",
    "m=np.c_[xx.ravel(), yy.ravel()]\n",
    "k =np.c_[m,np.ones(m.shape[0])]\n",
    "\n",
    "Z=np.empty(m.shape[0])\n",
    "for point in enumerate(k):\n",
    "    testpoint =(point[1])\n",
    "    Z[point[0]]=classifer_1(testpoint,mean,covariance,pw)\n",
    "    \n",
    "# Put the result into a color plot\n",
    "Z = Z.reshape(xx.shape)\n",
    "plt.contourf(xx, yy, Z, cmap=plt.cm.coolwarm, alpha=0.8)\n",
    "#plt.scatter(X2, X3, c=labels, cmap=plt.cm.coolwarm)\n",
    "plt.xlim(xx.min(), xx.max())\n",
    "plt.ylim(yy.min(), yy.max())\n",
    "plt.xticks(())\n",
    "plt.yticks(())"
   ]
  },
  {
   "cell_type": "markdown",
   "metadata": {},
   "source": [
    "### X1 vs X2  ML Classifier\n"
   ]
  },
  {
   "cell_type": "code",
   "execution_count": 13,
   "metadata": {
    "collapsed": false
   },
   "outputs": [
    {
     "data": {
      "text/plain": [
       "([], <a list of 0 Text yticklabel objects>)"
      ]
     },
     "execution_count": 13,
     "metadata": {},
     "output_type": "execute_result"
    },
    {
     "data": {
      "image/png": "[encoded data removed]",
      "text/plain": [
       "<matplotlib.figure.Figure at 0x7f2f45648a50>"
      ]
     },
     "metadata": {},
     "output_type": "display_data"
    }
   ],
   "source": [
    "x_min, x_max = X1.min() - 1, X1.max() + 1\n",
    "y_min, y_max = X2.min() - 1, X2.max() + 1\n",
    "h = .1  # step size in the mesh\n",
    "xx, yy = np.meshgrid(np.arange(x_min, x_max, h),\n",
    "                     np.arange(y_min, y_max, h))\n",
    "m=np.c_[xx.ravel(), yy.ravel()]\n",
    "k =np.c_[m,np.ones(m.shape[0])]\n",
    "\n",
    "Z=np.empty(m.shape[0])\n",
    "for point in enumerate(k):\n",
    "    testpoint =(point[1])\n",
    "    Z[point[0]]=classifer_2(testpoint,mean,covariance,pw)\n",
    "    \n",
    "# Put the result into a color plot\n",
    "Z = Z.reshape(xx.shape)\n",
    "plt.contourf(xx, yy, Z, cmap=plt.cm.coolwarm, alpha=0.8)\n",
    "#plt.scatter(X2, X3, c=labels, cmap=plt.cm.coolwarm)\n",
    "plt.xlim(xx.min(), xx.max())\n",
    "plt.ylim(yy.min(), yy.max())\n",
    "plt.xticks(())\n",
    "plt.yticks(())"
   ]
  },
  {
   "cell_type": "code",
   "execution_count": 14,
   "metadata": {
    "collapsed": false
   },
   "outputs": [
    {
     "data": {
      "text/plain": [
       "([], <a list of 0 Text yticklabel objects>)"
      ]
     },
     "execution_count": 14,
     "metadata": {},
     "output_type": "execute_result"
    },
    {
     "data": {
      "image/png": "[encoded data removed]",
      "text/plain": [
       "<matplotlib.figure.Figure at 0x7f2f6850d9d0>"
      ]
     },
     "metadata": {},
     "output_type": "display_data"
    }
   ],
   "source": [
    "x_min, x_max = X1.min() - 1, X1.max() + 1\n",
    "y_min, y_max = X3.min() - 1, X3.max() + 1\n",
    "h = .1  # step size in the mesh\n",
    "xx, yy = np.meshgrid(np.arange(x_min, x_max, h),\n",
    "                     np.arange(y_min, y_max, h))\n",
    "m=np.c_[xx.ravel(), yy.ravel()]\n",
    "k =np.c_[m,np.ones(m.shape[0])]\n",
    "\n",
    "Z=np.empty(m.shape[0])\n",
    "for point in enumerate(k):\n",
    "    testpoint =(point[1])\n",
    "    Z[point[0]]=classifer_1(testpoint,mean,covariance,pw)\n",
    "    \n",
    "# Put the result into a color plot\n",
    "Z = Z.reshape(xx.shape)\n",
    "plt.contourf(xx, yy, Z, cmap=plt.cm.coolwarm, alpha=0.8)\n",
    "#plt.scatter(X2, X3, c=labels, cmap=plt.cm.coolwarm)\n",
    "plt.xlim(xx.min(), xx.max())\n",
    "plt.ylim(yy.min(), yy.max())\n",
    "plt.xticks(())\n",
    "plt.yticks(())"
   ]
  },
  {
   "cell_type": "code",
   "execution_count": 15,
   "metadata": {
    "collapsed": false
   },
   "outputs": [
    {
     "name": "stdout",
     "output_type": "stream",
     "text": [
      "-8.75 8.18\n"
     ]
    },
    {
     "data": {
      "text/plain": [
       "([], <a list of 0 Text yticklabel objects>)"
      ]
     },
     "execution_count": 15,
     "metadata": {},
     "output_type": "execute_result"
    },
    {
     "data": {
      "image/png": "[encoded data removed]",
      "text/plain": [
       "<matplotlib.figure.Figure at 0x7f2f45654450>"
      ]
     },
     "metadata": {},
     "output_type": "display_data"
    }
   ],
   "source": [
    "x_min, x_max = X1.min() - 1, X1.max() + 1\n",
    "y_min, y_max = X3.min() - 1, X3.max() + 1\n",
    "print x_min ,x_max\n",
    "\n",
    "h = .1  # step size in the mesh\n",
    "xx, yy = np.meshgrid(np.arange(x_min, x_max, h),\n",
    "                     np.arange(y_min, y_max, h))\n",
    "m=np.c_[xx.ravel(), yy.ravel()]\n",
    "k =np.c_[m,np.ones(m.shape[0])]\n",
    "\n",
    "Z=np.empty(m.shape[0])\n",
    "for point in enumerate(k):\n",
    "    testpoint =(point[1])\n",
    "    Z[point[0]]=classifer_2(testpoint,mean,covariance,pw)\n",
    "    \n",
    "# Put the result into a color plot\n",
    "Z = Z.reshape(xx.shape)\n",
    "plt.contourf(xx, yy, Z, cmap=plt.cm.coolwarm, alpha=0.8)\n",
    "#plt.scatter(X2, X3, c=labels, cmap=plt.cm.coolwarm)\n",
    "plt.xlim(xx.min(), xx.max())\n",
    "plt.ylim(yy.min(), yy.max())\n",
    "plt.xticks(())\n",
    "plt.yticks(())"
   ]
  },
  {
   "cell_type": "code",
   "execution_count": 16,
   "metadata": {
    "collapsed": false
   },
   "outputs": [
    {
     "name": "stdout",
     "output_type": "stream",
     "text": [
      "-9.12 8.18\n"
     ]
    },
    {
     "data": {
      "text/plain": [
       "([], <a list of 0 Text yticklabel objects>)"
      ]
     },
     "execution_count": 16,
     "metadata": {},
     "output_type": "execute_result"
    },
    {
     "data": {
      "image/png": "[encoded data removed]",
      "text/plain": [
       "<matplotlib.figure.Figure at 0x7f2f68567f10>"
      ]
     },
     "metadata": {},
     "output_type": "display_data"
    }
   ],
   "source": [
    "x_min, x_max = X2.min() - 1, X2.max() + 1\n",
    "y_min, y_max = X3.min() - 1, X3.max() + 1\n",
    "print x_min ,x_max\n",
    "h = .1  # step size in the mesh\n",
    "xx, yy = np.meshgrid(np.arange(x_min, x_max, h),\n",
    "                     np.arange(y_min, y_max, h))\n",
    "\n",
    "m=np.c_[xx.ravel(), yy.ravel()]\n",
    "k =np.c_[m,np.ones(m.shape[0])]\n",
    "\n",
    "Z=np.empty(m.shape[0])\n",
    "for point in enumerate(k):\n",
    "    testpoint =(point[1])\n",
    "    Z[point[0]]=classifer_1(testpoint,mean,covariance,pw)\n",
    "    \n",
    "# Put the result into a color plot\n",
    "Z = Z.reshape(xx.shape)\n",
    "plt.contourf(xx, yy, Z, cmap=plt.cm.coolwarm, alpha=0.8)\n",
    "#plt.scatter(X2, X3, c=labels, cmap=plt.cm.coolwarm)\n",
    "plt.xlim(xx.min(), xx.max())\n",
    "plt.ylim(yy.min(), yy.max())\n",
    "plt.xticks(())\n",
    "plt.yticks(())"
   ]
  },
  {
   "cell_type": "code",
   "execution_count": 17,
   "metadata": {
    "collapsed": false
   },
   "outputs": [
    {
     "data": {
      "text/plain": [
       "([], <a list of 0 Text yticklabel objects>)"
      ]
     },
     "execution_count": 17,
     "metadata": {},
     "output_type": "execute_result"
    },
    {
     "data": {
      "image/png": "[encoded data removed]",
      "text/plain": [
       "<matplotlib.figure.Figure at 0x7f2f41bf96d0>"
      ]
     },
     "metadata": {},
     "output_type": "display_data"
    }
   ],
   "source": [
    "x_min, x_max = X2.min() - 1, X2.max() + 1\n",
    "y_min, y_max = X3.min() - 1, X3.max() + 1\n",
    "h = .2  # step size in the mesh\n",
    "xx, yy = np.meshgrid(np.arange(x_min, x_max, h),\n",
    "                     np.arange(y_min, y_max, h))\n",
    "m=np.c_[xx.ravel(), yy.ravel()]\n",
    "k =np.c_[m,np.ones(m.shape[0])]\n",
    "\n",
    "Z=np.empty(m.shape[0])\n",
    "for point in enumerate(k):\n",
    "    testpoint =(point[1])\n",
    "    Z[point[0]]=classifer_2(testpoint,mean,covariance,pw)\n",
    "    \n",
    "# Put the result into a color plot\n",
    "Z = Z.reshape(xx.shape)\n",
    "plt.contourf(xx, yy, Z, cmap=plt.cm.coolwarm, alpha=0.8)\n",
    "#plt.scatter(X2, X3, c=labels, cmap=plt.cm.coolwarm)\n",
    "plt.xlim(xx.min(), xx.max())\n",
    "plt.ylim(yy.min(), yy.max())\n",
    "plt.xticks(())\n",
    "plt.yticks(())"
   ]
  },
  {
   "cell_type": "code",
   "execution_count": null,
   "metadata": {
    "collapsed": true
   },
   "outputs": [],
   "source": []
  },
  {
   "cell_type": "code",
   "execution_count": null,
   "metadata": {
    "collapsed": true
   },
   "outputs": [],
   "source": []
  }
 ],
 "metadata": {
  "kernelspec": {
   "display_name": "Python [Root]",
   "language": "python",
   "name": "Python [Root]"
  },
  "language_info": {
   "codemirror_mode": {
    "name": "ipython",
    "version": 2
   },
   "file_extension": ".py",
   "mimetype": "text/x-python",
   "name": "python",
   "nbconvert_exporter": "python",
   "pygments_lexer": "ipython2",
   "version": "2.7.12"
  }
 },
 "nbformat": 4,
 "nbformat_minor": 2
}
